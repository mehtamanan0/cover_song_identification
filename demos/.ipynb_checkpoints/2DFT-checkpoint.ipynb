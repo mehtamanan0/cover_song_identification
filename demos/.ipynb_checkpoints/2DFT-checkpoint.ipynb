{
 "cells": [
  {
   "cell_type": "code",
   "execution_count": 19,
   "metadata": {},
   "outputs": [
    {
     "data": {
      "text/html": [
       "\n",
       "<style>\n",
       "audio {\n",
       "    width: 100%;\n",
       "}\n",
       ".output_png {\n",
       "    text-align: center;\n",
       "}\n",
       "</style>\n"
      ],
      "text/plain": [
       "<IPython.core.display.HTML object>"
      ]
     },
     "execution_count": 19,
     "metadata": {},
     "output_type": "execute_result"
    }
   ],
   "source": [
    "import IPython\n",
    "from IPython.display import Image\n",
    "import random\n",
    "import librosa\n",
    "import string\n",
    "import ffmpy\n",
    "import os\n",
    "import matplotlib.pyplot as plt\n",
    "%matplotlib inline\n",
    "from liveid import *\n",
    "import datetime\n",
    "\n",
    "ap = parameters()\n",
    "\n",
    "def load_file(file_name, scale=1):\n",
    "    x, sr = librosa.load(file_name)\n",
    "    ap['sample_rate'] = sr*scale\n",
    "    cqt, fp = fingerprint(x, ap)\n",
    "    return x, sr, cqt, fp\n",
    "\n",
    "def show_figure(fig_path, width):\n",
    "    IPython.display.display(Image(fig_path, width = width))\n",
    "\n",
    "def load_and_display(audio_path, title, aspect):\n",
    "    audio_signal, sr, audio_cqt, audio_fp = load_file(audio_path)\n",
    "    display_spectrogram_and_audio(audio_cqt, audio_fp, audio_signal, sr, title, aspect)\n",
    "    \n",
    "def display_spectrogram(stft, title, cmap, aspect):\n",
    "    notes = ['C3', 'G3', 'C4', 'G4', 'C5', 'G5', 'C6', 'G6']\n",
    "    numbers = np.array([0, 7, 13, 19, 25, 31, 37, 43])*2\n",
    "    plt.figure(figsize=(15, 8))\n",
    "    plt.imshow(stft, origin='lower', cmap=cmap, aspect = aspect)\n",
    "    plt.title(title)\n",
    "    plt.xticks(range(stft.shape[1])[::50], [str(datetime.timedelta(seconds=np.round(i / 10)))[3:] \n",
    "                                   for i in range(stft.shape[1])][::50], ha='left', rotation='vertical')\n",
    "    plt.ylim([0, stft.shape[0]])\n",
    "    plt.yticks(numbers, notes, va='bottom')\n",
    "    plt.ylabel('Pitch')\n",
    "    plt.xlabel('Time')\n",
    "    plt.show()\n",
    "    \n",
    "def display_spectrogram_and_audio(cqt, fp, audio_signal, sr, title, aspect):\n",
    "    display_spectrogram(cqt, title, 'PuRd', aspect)\n",
    "    display_spectrogram(fp, title, 'Greys', aspect)\n",
    "    audio(audio_signal, sr)\n",
    "\n",
    "def audio(d, sr):\n",
    "    tmp_file = 'tmp.mp3'\n",
    "    file_path = 'tmp.wav'\n",
    "    librosa.output.write_wav('tmp.wav', d, sr)\n",
    "    ff = ffmpy.FFmpeg(\n",
    "        inputs={file_path: None},\n",
    "        outputs={tmp_file: None})\n",
    "    ff.run()\n",
    "    IPython.display.display(IPython.display.Audio(tmp_file))\n",
    "    os.remove('tmp.mp3')\n",
    "    os.remove('tmp.wav')\n",
    "    \n",
    "from IPython.core.display import HTML\n",
    "HTML(\"\"\"\n",
    "<style>\n",
    "audio {\n",
    "    width: 100%;\n",
    "}\n",
    ".output_png {\n",
    "    text-align: center;\n",
    "}\n",
    "</style>\n",
    "\"\"\")"
   ]
  },
  {
   "cell_type": "code",
   "execution_count": 20,
   "metadata": {},
   "outputs": [],
   "source": [
    "from scipy.ndimage.filters import gaussian_filter\n",
    "\n",
    "fingerprint_parameters = {\n",
    "    'window_seconds': 20,\n",
    "    'hop_factor': .2\n",
    "}\n",
    "\n",
    "def fingerprint_fft(raw_fingerprint, audio_parameters, fingerprint_parameters):\n",
    "    window_seconds = fingerprint_parameters['window_seconds']\n",
    "    hop_factor = fingerprint_parameters['hop_factor']\n",
    "    sample_rate = audio_parameters['sample_rate']\n",
    "    window_length = window_seconds*audio_parameters['time_resolution']\n",
    "    ffts = []\n",
    "    start = 0\n",
    "    while start <= raw_fingerprint.shape[1] - window_length:\n",
    "        fft = np.fft.fft2(raw_fingerprint[:, start:start+window_length])\n",
    "        fft = gaussian_filter(np.abs(np.fft.fftshift(fft)), sigma=.375)\n",
    "        #fft = np.abs(np.fft.fftshift(fft))\n",
    "        ffts.append(fft)\n",
    "        start += int(window_length * hop_factor)   \n",
    "    return ffts"
   ]
  },
  {
   "cell_type": "code",
   "execution_count": 25,
   "metadata": {},
   "outputs": [],
   "source": [
    "#song_fp = load_file(\"../../coversong_identification/datasets/Elvis Presley - Can't Help Falling In Love/Can't Help Falling In Love-5V430M59Yn8.mp3\")[-1]\n",
    "#cover_fp = load_file(\"../../coversong_identification/datasets/Elvis Presley - Can't Help Falling In Love/Can't Help Falling in Love - Elvis Presley (Ukulele Cover by Stormy Amorette)-qlwnRhlh7ts.mp3\")[-1]\n",
    "\n",
    "song_fp = load_file(\"../data/test_data/Original.mp3\")\n",
    "cover_fp = load_file(\"../data/test_data/Cover.mp3\")"
   ]
  },
  {
   "cell_type": "code",
   "execution_count": 26,
   "metadata": {},
   "outputs": [
    {
     "ename": "AttributeError",
     "evalue": "'tuple' object has no attribute 'shape'",
     "output_type": "error",
     "traceback": [
      "\u001b[0;31m\u001b[0m",
      "\u001b[0;31mAttributeError\u001b[0mTraceback (most recent call last)",
      "\u001b[0;32m<ipython-input-26-9c75c468f1d3>\u001b[0m in \u001b[0;36m<module>\u001b[0;34m()\u001b[0m\n\u001b[0;32m----> 1\u001b[0;31m \u001b[0msong_ffts\u001b[0m \u001b[0;34m=\u001b[0m \u001b[0mfingerprint_fft\u001b[0m\u001b[0;34m(\u001b[0m\u001b[0msong_fp\u001b[0m\u001b[0;34m,\u001b[0m \u001b[0map\u001b[0m\u001b[0;34m,\u001b[0m \u001b[0mfingerprint_parameters\u001b[0m\u001b[0;34m)\u001b[0m\u001b[0;34m\u001b[0m\u001b[0m\n\u001b[0m\u001b[1;32m      2\u001b[0m \u001b[0mcover_ffts\u001b[0m \u001b[0;34m=\u001b[0m \u001b[0mfingerprint_fft\u001b[0m\u001b[0;34m(\u001b[0m\u001b[0mcover_fp\u001b[0m\u001b[0;34m,\u001b[0m \u001b[0map\u001b[0m\u001b[0;34m,\u001b[0m \u001b[0mfingerprint_parameters\u001b[0m\u001b[0;34m)\u001b[0m\u001b[0;34m\u001b[0m\u001b[0m\n\u001b[1;32m      3\u001b[0m \u001b[0mplt\u001b[0m\u001b[0;34m.\u001b[0m\u001b[0mfigure\u001b[0m\u001b[0;34m(\u001b[0m\u001b[0mfigsize\u001b[0m\u001b[0;34m=\u001b[0m\u001b[0;34m(\u001b[0m\u001b[0;36m20\u001b[0m\u001b[0;34m,\u001b[0m \u001b[0;36m4\u001b[0m\u001b[0;34m)\u001b[0m\u001b[0;34m)\u001b[0m\u001b[0;34m\u001b[0m\u001b[0m\n\u001b[1;32m      4\u001b[0m \u001b[0mplt\u001b[0m\u001b[0;34m.\u001b[0m\u001b[0mimshow\u001b[0m\u001b[0;34m(\u001b[0m\u001b[0mnp\u001b[0m\u001b[0;34m.\u001b[0m\u001b[0mlog\u001b[0m\u001b[0;34m(\u001b[0m\u001b[0mnp\u001b[0m\u001b[0;34m.\u001b[0m\u001b[0mhstack\u001b[0m\u001b[0;34m(\u001b[0m\u001b[0msong_ffts\u001b[0m\u001b[0;34m)\u001b[0m\u001b[0;34m)\u001b[0m\u001b[0;34m**\u001b[0m\u001b[0;36m.5\u001b[0m\u001b[0;34m,\u001b[0m \u001b[0maspect\u001b[0m \u001b[0;34m=\u001b[0m \u001b[0;36m10\u001b[0m\u001b[0;34m)\u001b[0m\u001b[0;34m\u001b[0m\u001b[0m\n\u001b[1;32m      5\u001b[0m \u001b[0mplt\u001b[0m\u001b[0;34m.\u001b[0m\u001b[0mtitle\u001b[0m\u001b[0;34m(\u001b[0m\u001b[0;34m\"Can't Help Falling In Love With You - Original\"\u001b[0m\u001b[0;34m)\u001b[0m\u001b[0;34m\u001b[0m\u001b[0m\n",
      "\u001b[0;32m<ipython-input-20-400a7e3d1a36>\u001b[0m in \u001b[0;36mfingerprint_fft\u001b[0;34m(raw_fingerprint, audio_parameters, fingerprint_parameters)\u001b[0m\n\u001b[1;32m     13\u001b[0m     \u001b[0mffts\u001b[0m \u001b[0;34m=\u001b[0m \u001b[0;34m[\u001b[0m\u001b[0;34m]\u001b[0m\u001b[0;34m\u001b[0m\u001b[0m\n\u001b[1;32m     14\u001b[0m     \u001b[0mstart\u001b[0m \u001b[0;34m=\u001b[0m \u001b[0;36m0\u001b[0m\u001b[0;34m\u001b[0m\u001b[0m\n\u001b[0;32m---> 15\u001b[0;31m     \u001b[0;32mwhile\u001b[0m \u001b[0mstart\u001b[0m \u001b[0;34m<=\u001b[0m \u001b[0mraw_fingerprint\u001b[0m\u001b[0;34m.\u001b[0m\u001b[0mshape\u001b[0m\u001b[0;34m[\u001b[0m\u001b[0;36m1\u001b[0m\u001b[0;34m]\u001b[0m \u001b[0;34m-\u001b[0m \u001b[0mwindow_length\u001b[0m\u001b[0;34m:\u001b[0m\u001b[0;34m\u001b[0m\u001b[0m\n\u001b[0m\u001b[1;32m     16\u001b[0m         \u001b[0mfft\u001b[0m \u001b[0;34m=\u001b[0m \u001b[0mnp\u001b[0m\u001b[0;34m.\u001b[0m\u001b[0mfft\u001b[0m\u001b[0;34m.\u001b[0m\u001b[0mfft2\u001b[0m\u001b[0;34m(\u001b[0m\u001b[0mraw_fingerprint\u001b[0m\u001b[0;34m[\u001b[0m\u001b[0;34m:\u001b[0m\u001b[0;34m,\u001b[0m \u001b[0mstart\u001b[0m\u001b[0;34m:\u001b[0m\u001b[0mstart\u001b[0m\u001b[0;34m+\u001b[0m\u001b[0mwindow_length\u001b[0m\u001b[0;34m]\u001b[0m\u001b[0;34m)\u001b[0m\u001b[0;34m\u001b[0m\u001b[0m\n\u001b[1;32m     17\u001b[0m         \u001b[0mfft\u001b[0m \u001b[0;34m=\u001b[0m \u001b[0mgaussian_filter\u001b[0m\u001b[0;34m(\u001b[0m\u001b[0mnp\u001b[0m\u001b[0;34m.\u001b[0m\u001b[0mabs\u001b[0m\u001b[0;34m(\u001b[0m\u001b[0mnp\u001b[0m\u001b[0;34m.\u001b[0m\u001b[0mfft\u001b[0m\u001b[0;34m.\u001b[0m\u001b[0mfftshift\u001b[0m\u001b[0;34m(\u001b[0m\u001b[0mfft\u001b[0m\u001b[0;34m)\u001b[0m\u001b[0;34m)\u001b[0m\u001b[0;34m,\u001b[0m \u001b[0msigma\u001b[0m\u001b[0;34m=\u001b[0m\u001b[0;36m.375\u001b[0m\u001b[0;34m)\u001b[0m\u001b[0;34m\u001b[0m\u001b[0m\n",
      "\u001b[0;31mAttributeError\u001b[0m: 'tuple' object has no attribute 'shape'"
     ]
    }
   ],
   "source": [
    "song_ffts = fingerprint_fft(song_fp, ap, fingerprint_parameters)\n",
    "cover_ffts = fingerprint_fft(cover_fp, ap, fingerprint_parameters)\n",
    "plt.figure(figsize=(20, 4))\n",
    "plt.imshow(np.log(np.hstack(song_ffts))**.5, aspect = 10)\n",
    "plt.title(\"Can't Help Falling In Love With You - Original\")\n",
    "plt.show()\n",
    "\n",
    "# plt.figure(figsize=(20, 4))\n",
    "# plt.imshow(np.log(np.hstack(cover_ffts))**.5, aspect = 10)\n",
    "# plt.title(\"Can't Help Falling In Love With You - Pitch shifted\")\n",
    "# plt.show()\n",
    "\n",
    "plt.figure(figsize=(20, 4))\n",
    "plt.imshow(np.log(np.hstack(cover_ffts))**.5, aspect = 10)\n",
    "plt.title(\"Can't Help Falling In Love With You - Cover (ukelele)\")\n",
    "plt.show()"
   ]
  },
  {
   "cell_type": "code",
   "execution_count": null,
   "metadata": {},
   "outputs": [],
   "source": []
  }
 ],
 "metadata": {
  "kernelspec": {
   "display_name": "Python 2",
   "language": "python",
   "name": "python2"
  },
  "language_info": {
   "codemirror_mode": {
    "name": "ipython",
    "version": 2
   },
   "file_extension": ".py",
   "mimetype": "text/x-python",
   "name": "python",
   "nbconvert_exporter": "python",
   "pygments_lexer": "ipython2",
   "version": "2.7.15"
  }
 },
 "nbformat": 4,
 "nbformat_minor": 2
}
